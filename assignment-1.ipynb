{
 "cells": [
  {
   "cell_type": "code",
   "execution_count": 2,
   "id": "3d7fe814",
   "metadata": {},
   "outputs": [],
   "source": [
    "#Que-1: In the below elements which of them are values or an expression? eg:- values can be integer or string and expressions will be mathematical operators.\n",
    "# ans)+,-,*,/ are the expressions\n",
    "#     1,-1,0.1 are the values"
   ]
  },
  {
   "cell_type": "code",
   "execution_count": 3,
   "id": "69f33db5",
   "metadata": {},
   "outputs": [],
   "source": [
    "# Que-2: What is the difference between string and variable?\n",
    "# ans) we can say string is a group of characters in sequence and it is a data type. variable stores datatypes it to perform coding operations. we can not use space in between characters in varaible but in string we can use space in between characters.    "
   ]
  },
  {
   "cell_type": "code",
   "execution_count": 4,
   "id": "4d413862",
   "metadata": {},
   "outputs": [],
   "source": [
    "#Que-3: Describe three different data type?\n",
    "#ans) Ans: Below is the different type of data type. \n",
    "#1)Text Type: str (ex- x = \"Hellow Ineuron\")\n",
    "#2)Numeric Type: Int, Float, complex. \n",
    "#3)Sequence Types: List, Tuple, Range. \n",
    "#4) Mapping Type: Dict. \n",
    "#5)Set Type: set, frozenset. \n",
    "#6) Boolean Type: Bool. \n",
    "#7) Binary Type: Bytes, Bytearray"
   ]
  },
  {
   "cell_type": "code",
   "execution_count": 5,
   "id": "ed799028",
   "metadata": {},
   "outputs": [],
   "source": [
    "#Que-4: What is an expression made up of? What do all expressions do?\n",
    "#Ans: An expression is a combination of operators and operands that is interpreted to produce some other value. An expression is evaluated as per precedence of its operators. \n",
    "#1) Constant Expression: have a constant value. \n",
    "#Ex- x = 16 + 1.4 print(x)\n",
    "#2)Arithmetic Expression: combination of numeric values, operators and sometime parenthesis.\n",
    "#Ex- x+y, x-y, x*y, x/y. \n",
    "#3) Integral Expression: produce only interger results after all computations and type conversions.\n",
    "#Ex- a=13 b=12.0 c=a+ int(b) print(c)"
   ]
  },
  {
   "cell_type": "code",
   "execution_count": 6,
   "id": "48fc6fe0",
   "metadata": {},
   "outputs": [],
   "source": [
    "#Que-5:This assignment statements, like spam = 10. What is the difference between an expression and a statement?\n",
    "#ans) Ans: Statements: A statement performs some action. Ex- print(\"Hello World\")\n",
    "\n",
    "#sleep(1000)\n",
    "\n",
    "#return 55\n",
    "\n",
    "#if (done) exit()\n",
    "\n",
    "#throw SomeError().\n",
    "\n",
    "#An expression can be part of a statement:\n",
    "\n",
    "#while (x < 5) x += 15\n",
    "\n",
    "#print(\"i: \" + i).\n",
    "\n",
    "#Expressions:\n",
    "\n",
    "#An expression evaluates to some value.\n",
    "\n",
    "#Ex- \"Hello World\"\n",
    "\n",
    "#1000\n",
    "\n",
    "#5 + 3\n",
    "\n",
    "#a * 5 > b\n",
    "\n",
    "#x_flag & mask.\n",
    "\n",
    "#A statement is never part of an expression."
   ]
  },
  {
   "cell_type": "code",
   "execution_count": 13,
   "id": "eb2d7377",
   "metadata": {},
   "outputs": [
    {
     "data": {
      "text/plain": [
       "27"
      ]
     },
     "execution_count": 13,
     "metadata": {},
     "output_type": "execute_result"
    }
   ],
   "source": [
    "#Que-6. After running the following code, what does the variable bacon contain?\n",
    "bacon = 22\n",
    "bacon+5"
   ]
  },
  {
   "cell_type": "code",
   "execution_count": 15,
   "id": "5d86b8f8",
   "metadata": {},
   "outputs": [
    {
     "data": {
      "text/plain": [
       "'spamspamspam'"
      ]
     },
     "execution_count": 15,
     "metadata": {},
     "output_type": "execute_result"
    }
   ],
   "source": [
    "#Que-7. What should the values of the following two terms be?\n",
    "#'spam'+'spamspam'\n",
    "#'spamspamspam'\n",
    "'spam'*3"
   ]
  },
  {
   "cell_type": "code",
   "execution_count": 9,
   "id": "3246a0a7",
   "metadata": {},
   "outputs": [],
   "source": [
    "#Que-8.Why is eggs a valid variable name while 100 is invalid?\n",
    "# eegs is group fo characters\n",
    "# 100 is an int"
   ]
  },
  {
   "cell_type": "code",
   "execution_count": 10,
   "id": "456c5873",
   "metadata": {},
   "outputs": [],
   "source": [
    "#Que-9. What three functions can be used to get the integer, floating-point number, or string version of a value?\n",
    "# int() str() float()"
   ]
  },
  {
   "cell_type": "code",
   "execution_count": 11,
   "id": "db8dae57",
   "metadata": {},
   "outputs": [
    {
     "ename": "TypeError",
     "evalue": "can only concatenate str (not \"int\") to str",
     "output_type": "error",
     "traceback": [
      "\u001b[1;31m---------------------------------------------------------------------------\u001b[0m",
      "\u001b[1;31mTypeError\u001b[0m                                 Traceback (most recent call last)",
      "Input \u001b[1;32mIn [11]\u001b[0m, in \u001b[0;36m<cell line: 2>\u001b[1;34m()\u001b[0m\n\u001b[0;32m      1\u001b[0m \u001b[38;5;66;03m#Que-10. Why does this expression cause an error? How can you fix it?\u001b[39;00m\n\u001b[1;32m----> 2\u001b[0m \u001b[38;5;124;43m'\u001b[39;49m\u001b[38;5;124;43mI have eaten\u001b[39;49m\u001b[38;5;124;43m'\u001b[39;49m\u001b[38;5;241;43m+\u001b[39;49m\u001b[43m \u001b[49m\u001b[38;5;241;43m99\u001b[39;49m \u001b[38;5;241m+\u001b[39m\u001b[38;5;124m'\u001b[39m\u001b[38;5;124mburritos.\u001b[39m\u001b[38;5;124m'\u001b[39m\n",
      "\u001b[1;31mTypeError\u001b[0m: can only concatenate str (not \"int\") to str"
     ]
    }
   ],
   "source": [
    "#Que-10. Why does this expression cause an error? How can you fix it?\n",
    "'I have eaten'+ 99 +'burritos.'\n"
   ]
  },
  {
   "cell_type": "code",
   "execution_count": 16,
   "id": "b18c3169",
   "metadata": {},
   "outputs": [
    {
     "data": {
      "text/plain": [
       "'i have eaten99burritos'"
      ]
     },
     "execution_count": 16,
     "metadata": {},
     "output_type": "execute_result"
    }
   ],
   "source": [
    "#because 99 is integer so we cannot add in between strings.\n",
    "'i have eaten'+'99'+'burritos'"
   ]
  },
  {
   "cell_type": "code",
   "execution_count": null,
   "id": "b273a263",
   "metadata": {},
   "outputs": [],
   "source": []
  }
 ],
 "metadata": {
  "kernelspec": {
   "display_name": "Python 3 (ipykernel)",
   "language": "python",
   "name": "python3"
  },
  "language_info": {
   "codemirror_mode": {
    "name": "ipython",
    "version": 3
   },
   "file_extension": ".py",
   "mimetype": "text/x-python",
   "name": "python",
   "nbconvert_exporter": "python",
   "pygments_lexer": "ipython3",
   "version": "3.9.12"
  }
 },
 "nbformat": 4,
 "nbformat_minor": 5
}
